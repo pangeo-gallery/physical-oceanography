{
 "cells": [
  {
   "cell_type": "markdown",
   "metadata": {},
   "source": [
    "# Gulf Stream Currents\n",
    "\n",
    "An example that uses `ipyleaflet` to reproduce style of visualization used in the New York Times article\n",
    "[In the Atlantic Ocean, Subtle Shifts Hint at Dramatic Dangers](https://www.nytimes.com/interactive/2021/03/02/climate/atlantic-ocean-climate-change.html) (March 2, 20121)."
   ]
  },
  {
   "cell_type": "code",
   "execution_count": null,
   "metadata": {},
   "outputs": [],
   "source": [
    "from ipyleaflet import Map, TileLayer, basemaps\n",
    "from ipyleaflet.velocity import Velocity\n",
    "from intake import open_catalog"
   ]
  },
  {
   "cell_type": "code",
   "execution_count": null,
   "metadata": {},
   "outputs": [],
   "source": [
    "cat = open_catalog(\"https://raw.githubusercontent.com/pangeo-data/pangeo-datastore/master/intake-catalogs/ocean.yaml\")\n",
    "ds  = cat[\"sea_surface_height\"].to_dask()\n",
    "ds"
   ]
  },
  {
   "cell_type": "code",
   "execution_count": null,
   "metadata": {},
   "outputs": [],
   "source": [
    "center = [35, -50]\n",
    "zoom = 4\n",
    "m = Map(center=center, zoom=zoom, interpolation='nearest', basemap=basemaps.Gaode.Satellite)\n",
    "\n",
    "display_options = {\n",
    "    'velocityType': 'Global Wind',\n",
    "    'displayPosition': 'bottomleft',\n",
    "    'displayEmptyString': 'No wind data'\n",
    "}\n",
    "\n",
    "wind = Velocity(\n",
    "    data=ds.isel(time=-1), \n",
    "    zonal_speed='ugos', meridional_speed='vgos', \n",
    "    latitude_dimension='latitude', longitude_dimension='longitude', \n",
    "    velocity_scale=0.2, max_velocity=1, \n",
    "    display_options=display_options\n",
    ")\n",
    "\n",
    "m.add_layer(wind)\n",
    "\n",
    "m"
   ]
  }
 ],
 "metadata": {
  "kernelspec": {
   "display_name": "Python 3",
   "language": "python",
   "name": "python3"
  },
  "language_info": {
   "codemirror_mode": {
    "name": "ipython",
    "version": 3
   },
   "file_extension": ".py",
   "mimetype": "text/x-python",
   "name": "python",
   "nbconvert_exporter": "python",
   "pygments_lexer": "ipython3",
   "version": "3.8.6"
  }
 },
 "nbformat": 4,
 "nbformat_minor": 5
}
